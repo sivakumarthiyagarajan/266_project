{
  "nbformat": 4,
  "nbformat_minor": 0,
  "metadata": {
    "colab": {
      "provenance": [],
      "machine_shape": "hm",
      "gpuType": "A100"
    },
    "kernelspec": {
      "name": "python3",
      "display_name": "Python 3"
    },
    "language_info": {
      "name": "python"
    },
    "accelerator": "GPU"
  },
  "cells": [
    {
      "cell_type": "code",
      "execution_count": null,
      "metadata": {
        "colab": {
          "base_uri": "https://localhost:8080/"
        },
        "id": "mYgm5-kNENDb",
        "outputId": "0c516510-2233-4439-aac7-1ef550e0515c"
      },
      "outputs": [
        {
          "output_type": "stream",
          "name": "stdout",
          "text": [
            "Requirement already satisfied: datasets in /usr/local/lib/python3.10/dist-packages (2.18.0)\n",
            "Requirement already satisfied: filelock in /usr/local/lib/python3.10/dist-packages (from datasets) (3.13.3)\n",
            "Requirement already satisfied: numpy>=1.17 in /usr/local/lib/python3.10/dist-packages (from datasets) (1.25.2)\n",
            "Requirement already satisfied: pyarrow>=12.0.0 in /usr/local/lib/python3.10/dist-packages (from datasets) (14.0.2)\n",
            "Requirement already satisfied: pyarrow-hotfix in /usr/local/lib/python3.10/dist-packages (from datasets) (0.6)\n",
            "Requirement already satisfied: dill<0.3.9,>=0.3.0 in /usr/local/lib/python3.10/dist-packages (from datasets) (0.3.8)\n",
            "Requirement already satisfied: pandas in /usr/local/lib/python3.10/dist-packages (from datasets) (2.0.3)\n",
            "Requirement already satisfied: requests>=2.19.0 in /usr/local/lib/python3.10/dist-packages (from datasets) (2.31.0)\n",
            "Requirement already satisfied: tqdm>=4.62.1 in /usr/local/lib/python3.10/dist-packages (from datasets) (4.66.2)\n",
            "Requirement already satisfied: xxhash in /usr/local/lib/python3.10/dist-packages (from datasets) (3.4.1)\n",
            "Requirement already satisfied: multiprocess in /usr/local/lib/python3.10/dist-packages (from datasets) (0.70.16)\n",
            "Requirement already satisfied: fsspec[http]<=2024.2.0,>=2023.1.0 in /usr/local/lib/python3.10/dist-packages (from datasets) (2023.6.0)\n",
            "Requirement already satisfied: aiohttp in /usr/local/lib/python3.10/dist-packages (from datasets) (3.9.3)\n",
            "Requirement already satisfied: huggingface-hub>=0.19.4 in /usr/local/lib/python3.10/dist-packages (from datasets) (0.20.3)\n",
            "Requirement already satisfied: packaging in /usr/local/lib/python3.10/dist-packages (from datasets) (24.0)\n",
            "Requirement already satisfied: pyyaml>=5.1 in /usr/local/lib/python3.10/dist-packages (from datasets) (6.0.1)\n",
            "Requirement already satisfied: aiosignal>=1.1.2 in /usr/local/lib/python3.10/dist-packages (from aiohttp->datasets) (1.3.1)\n",
            "Requirement already satisfied: attrs>=17.3.0 in /usr/local/lib/python3.10/dist-packages (from aiohttp->datasets) (23.2.0)\n",
            "Requirement already satisfied: frozenlist>=1.1.1 in /usr/local/lib/python3.10/dist-packages (from aiohttp->datasets) (1.4.1)\n",
            "Requirement already satisfied: multidict<7.0,>=4.5 in /usr/local/lib/python3.10/dist-packages (from aiohttp->datasets) (6.0.5)\n",
            "Requirement already satisfied: yarl<2.0,>=1.0 in /usr/local/lib/python3.10/dist-packages (from aiohttp->datasets) (1.9.4)\n",
            "Requirement already satisfied: async-timeout<5.0,>=4.0 in /usr/local/lib/python3.10/dist-packages (from aiohttp->datasets) (4.0.3)\n",
            "Requirement already satisfied: typing-extensions>=3.7.4.3 in /usr/local/lib/python3.10/dist-packages (from huggingface-hub>=0.19.4->datasets) (4.10.0)\n",
            "Requirement already satisfied: charset-normalizer<4,>=2 in /usr/local/lib/python3.10/dist-packages (from requests>=2.19.0->datasets) (3.3.2)\n",
            "Requirement already satisfied: idna<4,>=2.5 in /usr/local/lib/python3.10/dist-packages (from requests>=2.19.0->datasets) (3.6)\n",
            "Requirement already satisfied: urllib3<3,>=1.21.1 in /usr/local/lib/python3.10/dist-packages (from requests>=2.19.0->datasets) (2.0.7)\n",
            "Requirement already satisfied: certifi>=2017.4.17 in /usr/local/lib/python3.10/dist-packages (from requests>=2.19.0->datasets) (2024.2.2)\n",
            "Requirement already satisfied: python-dateutil>=2.8.2 in /usr/local/lib/python3.10/dist-packages (from pandas->datasets) (2.8.2)\n",
            "Requirement already satisfied: pytz>=2020.1 in /usr/local/lib/python3.10/dist-packages (from pandas->datasets) (2023.4)\n",
            "Requirement already satisfied: tzdata>=2022.1 in /usr/local/lib/python3.10/dist-packages (from pandas->datasets) (2024.1)\n",
            "Requirement already satisfied: six>=1.5 in /usr/local/lib/python3.10/dist-packages (from python-dateutil>=2.8.2->pandas->datasets) (1.16.0)\n"
          ]
        },
        {
          "output_type": "stream",
          "name": "stderr",
          "text": [
            "[nltk_data] Downloading package stopwords to /root/nltk_data...\n",
            "[nltk_data]   Package stopwords is already up-to-date!\n",
            "[nltk_data] Downloading package punkt to /root/nltk_data...\n",
            "[nltk_data]   Package punkt is already up-to-date!\n"
          ]
        },
        {
          "output_type": "stream",
          "name": "stdout",
          "text": [
            "Requirement already satisfied: pydot in /usr/local/lib/python3.10/dist-packages (1.4.2)\n",
            "Requirement already satisfied: pyparsing>=2.1.4 in /usr/local/lib/python3.10/dist-packages (from pydot) (3.1.2)\n"
          ]
        }
      ],
      "source": [
        "!pip install datasets\n",
        "\n",
        "from datasets import load_dataset\n",
        "import pandas as pd\n",
        "import numpy as np\n",
        "import matplotlib.pyplot as plt\n",
        "import plotly.express as px\n",
        "from collections import Counter\n",
        "import pandas as pd\n",
        "import matplotlib.pyplot as plt\n",
        "from sklearn.feature_extraction.text import CountVectorizer\n",
        "import seaborn as sns\n",
        "import nltk\n",
        "from nltk.corpus import stopwords\n",
        "from nltk.tokenize import word_tokenize\n",
        "from collections import Counter\n",
        "import pandas as pd\n",
        "import matplotlib.pyplot as plt\n",
        "import seaborn as sns\n",
        "from wordcloud import WordCloud\n",
        "from collections import Counter\n",
        "import numpy as np\n",
        "import tensorflow as tf\n",
        "from tensorflow import keras\n",
        "from sklearn.preprocessing import MultiLabelBinarizer\n",
        "from sklearn.metrics import classification_report\n",
        "import seaborn as sns\n",
        "import matplotlib.pyplot as plt\n",
        "from pprint import pprint\n",
        "# Download NLTK stop words\n",
        "nltk.download('stopwords')\n",
        "nltk.download('punkt')\n",
        "\n",
        "!pip install -q transformers==4.37.2\n",
        "!pip install pydot\n",
        "\n",
        "from transformers import AutoTokenizer, TFAutoModel, TFAutoModelForMaskedLM"
      ]
    },
    {
      "cell_type": "code",
      "source": [
        "dataset = load_dataset(\"orieg/elsevier-oa-cc-by\")\n",
        "elsevier_dataset = dataset"
      ],
      "metadata": {
        "colab": {
          "base_uri": "https://localhost:8080/"
        },
        "id": "5twDO5OLEaWM",
        "outputId": "ebd8e178-9f5a-44b0-95ec-7e0e3a50f2b6"
      },
      "execution_count": null,
      "outputs": [
        {
          "output_type": "stream",
          "name": "stderr",
          "text": [
            "/usr/local/lib/python3.10/dist-packages/datasets/load.py:1461: FutureWarning: The repository for orieg/elsevier-oa-cc-by contains custom code which must be executed to correctly load the dataset. You can inspect the repository content at https://hf.co/datasets/orieg/elsevier-oa-cc-by\n",
            "You can avoid this message in future by passing the argument `trust_remote_code=True`.\n",
            "Passing `trust_remote_code=True` will be mandatory to load this dataset from the next major release of `datasets`.\n",
            "  warnings.warn(\n"
          ]
        }
      ]
    },
    {
      "cell_type": "code",
      "source": [
        "train_set = elsevier_dataset['train']\n",
        "train_df = pd.DataFrame(train_set)\n",
        "\n",
        "val_set = elsevier_dataset['validation']\n",
        "val_df = pd.DataFrame(val_set)\n",
        "\n",
        "test_set = elsevier_dataset['test']\n",
        "test_df = pd.DataFrame(test_set)"
      ],
      "metadata": {
        "id": "KDn1XFfnGDSE"
      },
      "execution_count": null,
      "outputs": []
    },
    {
      "cell_type": "code",
      "source": [
        "#subject areas based on SciBERT training data\n",
        "relevant_subject_areas = {'COMP', 'BIOC', 'MEDI'}\n",
        "\n",
        "def filter_relevant_subjects(subjareas_list):\n",
        "    return [area for area in subjareas_list if area in relevant_subject_areas]\n",
        "\n",
        "train_df['subjareas'] = train_df['subjareas'].apply(filter_relevant_subjects)\n",
        "val_df['subjareas'] = val_df['subjareas'].apply(filter_relevant_subjects)\n",
        "test_df['subjareas'] = test_df['subjareas'].apply(filter_relevant_subjects)\n",
        "\n",
        "train_df = train_df[train_df['subjareas'].map(bool)]\n",
        "val_df = val_df[val_df['subjareas'].map(bool)]\n",
        "test_df = test_df[test_df['subjareas'].map(bool)]"
      ],
      "metadata": {
        "id": "f22JIB5wGDwN"
      },
      "execution_count": null,
      "outputs": []
    },
    {
      "cell_type": "code",
      "source": [
        "def prepare_elsevier_data(train_df, val_df, test_df):\n",
        "    \"\"\"\n",
        "    Prepares the Elsevier corpus splits for multi-label classification.\n",
        "    \"\"\"\n",
        "    mlb = MultiLabelBinarizer()\n",
        "\n",
        "    all_labels = pd.concat([train_df['subjareas'], val_df['subjareas'], test_df['subjareas']])\n",
        "    mlb.fit(all_labels)\n",
        "\n",
        "    train_labels = mlb.transform(train_df['subjareas'])\n",
        "    val_labels = mlb.transform(val_df['subjareas'])\n",
        "    test_labels = mlb.transform(test_df['subjareas'])\n",
        "\n",
        "    train_texts = train_df['abstract'].tolist()\n",
        "    val_texts = val_df['abstract'].tolist()\n",
        "    test_texts = test_df['abstract'].tolist()\n",
        "\n",
        "    return train_texts, val_texts, test_texts, train_labels, val_labels, test_labels, mlb.classes_\n",
        "\n",
        "train_texts, val_texts, test_texts, train_labels, val_labels, test_labels, target_names = prepare_elsevier_data(train_df, val_df, test_df)"
      ],
      "metadata": {
        "id": "D6uf8W8AGHV1"
      },
      "execution_count": null,
      "outputs": []
    },
    {
      "cell_type": "code",
      "source": [
        "model_checkpoint = 'allenai/scibert_scivocab_cased'\n",
        "tokenizer = AutoTokenizer.from_pretrained(model_checkpoint)"
      ],
      "metadata": {
        "id": "-gZfo4tmGLTK"
      },
      "execution_count": null,
      "outputs": []
    },
    {
      "cell_type": "code",
      "source": [
        "train_encodings = tokenizer(train_texts, truncation=True, padding='max_length', max_length=300)\n",
        "val_encodings = tokenizer(val_texts, truncation=True, padding='max_length', max_length=300)\n",
        "test_encodings = tokenizer(test_texts, truncation=True, padding='max_length', max_length=300)"
      ],
      "metadata": {
        "id": "v-v4IJhbGScQ"
      },
      "execution_count": null,
      "outputs": []
    },
    {
      "cell_type": "code",
      "source": [
        "def build_finetune_scibert(pretrained_model_name_or_path='allenai/scibert_scivocab_cased', num_classes=3, max_length=300):\n",
        "    \"\"\"\n",
        "    Builds a fine-tuned SciBERT model.\n",
        "    \"\"\"\n",
        "    tf.keras.backend.clear_session()\n",
        "\n",
        "    # Load the pre-trained SciBERT model\n",
        "    scibert_model = TFAutoModel.from_pretrained(pretrained_model_name_or_path, from_pt=True)  # Note the from_pt=True\n",
        "\n",
        "    # input layers\n",
        "    input_ids = tf.keras.layers.Input(shape=(max_length,), dtype=tf.int32, name='input_ids')\n",
        "    attention_mask = tf.keras.layers.Input(shape=(max_length,), dtype=tf.int32, name='attention_mask')\n",
        "\n",
        "    # embeddings from the pre-trained model\n",
        "    embeddings = scibert_model(input_ids=input_ids, attention_mask=attention_mask)[0]\n",
        "\n",
        "    x = tf.keras.layers.GlobalAveragePooling1D()(embeddings)\n",
        "    x = tf.keras.layers.Dense(50, activation='relu')(x)\n",
        "    x = tf.keras.layers.Dropout(0.2)(x)\n",
        "\n",
        "    # Output layer with sigmoid activation for multi-label classification\n",
        "    output = tf.keras.layers.Dense(num_classes, activation='sigmoid')(x)\n",
        "\n",
        "    model = tf.keras.Model(inputs=[input_ids, attention_mask], outputs=output)\n",
        "\n",
        "    model.compile(optimizer=tf.keras.optimizers.Adam(learning_rate=2e-5),\n",
        "                  loss=tf.keras.losses.BinaryCrossentropy(),\n",
        "                  metrics=['accuracy'])\n",
        "\n",
        "    return model\n",
        "\n",
        "scibert_model = build_finetune_scibert(num_classes=len(target_names))"
      ],
      "metadata": {
        "colab": {
          "base_uri": "https://localhost:8080/"
        },
        "id": "VC3eCBiVGUbZ",
        "outputId": "c3d02f69-c58d-4897-8731-33e87c6255c3"
      },
      "execution_count": null,
      "outputs": [
        {
          "output_type": "stream",
          "name": "stderr",
          "text": [
            "Some weights of the PyTorch model were not used when initializing the TF 2.0 model TFBertModel: ['cls.predictions.transform.LayerNorm.bias', 'cls.seq_relationship.bias', 'cls.predictions.bias', 'cls.seq_relationship.weight', 'cls.predictions.decoder.bias', 'cls.predictions.transform.dense.weight', 'cls.predictions.decoder.weight', 'cls.predictions.transform.dense.bias', 'cls.predictions.transform.LayerNorm.weight']\n",
            "- This IS expected if you are initializing TFBertModel from a PyTorch model trained on another task or with another architecture (e.g. initializing a TFBertForSequenceClassification model from a BertForPreTraining model).\n",
            "- This IS NOT expected if you are initializing TFBertModel from a PyTorch model that you expect to be exactly identical (e.g. initializing a TFBertForSequenceClassification model from a BertForSequenceClassification model).\n",
            "All the weights of TFBertModel were initialized from the PyTorch model.\n",
            "If your task is similar to the task the model of the checkpoint was trained on, you can already use TFBertModel for predictions without further training.\n"
          ]
        }
      ]
    },
    {
      "cell_type": "code",
      "source": [
        "def compute_sample_weights(df, label_column):\n",
        "    \"\"\"\n",
        "    Compute sample weights for multi-label classification.\n",
        "    \"\"\"\n",
        "    label_freq = pd.Series([label for sublist in df[label_column] for label in sublist]).value_counts()\n",
        "\n",
        "    label_weights = 1 / label_freq\n",
        "    label_weights /= label_weights.sum()\n",
        "    label_weight_map = label_weights.to_dict()\n",
        "\n",
        "    sample_weights = []\n",
        "\n",
        "    for labels in df[label_column]:\n",
        "        sample_weight = sum([label_weight_map[label] for label in labels if label in label_weight_map])\n",
        "        normalized_weight = sample_weight / len(labels) if labels else 0\n",
        "        sample_weights.append(normalized_weight)\n",
        "\n",
        "    return np.array(sample_weights)\n",
        "\n",
        "sample_weights = compute_sample_weights(train_df, 'subjareas')"
      ],
      "metadata": {
        "id": "V3JKHFgmGgyn"
      },
      "execution_count": null,
      "outputs": []
    },
    {
      "cell_type": "code",
      "source": [
        "# convert encodings to numpy arrays....\n",
        "train_inputs = {'input_ids': np.array(train_encodings['input_ids']), 'attention_mask': np.array(train_encodings['attention_mask'])}\n",
        "val_inputs = {'input_ids': np.array(val_encodings['input_ids']), 'attention_mask': np.array(val_encodings['attention_mask'])}\n",
        "test_inputs = {'input_ids': np.array(test_encodings['input_ids']), 'attention_mask': np.array(test_encodings['attention_mask'])}\n",
        "\n",
        "history = scibert_model.fit(\n",
        "    train_inputs,\n",
        "    train_labels,\n",
        "    validation_data=(val_inputs, val_labels),\n",
        "    batch_size=8,\n",
        "    epochs=2,\n",
        "    sample_weight=sample_weights\n",
        ")"
      ],
      "metadata": {
        "colab": {
          "base_uri": "https://localhost:8080/"
        },
        "id": "F6Cu6if9GpMh",
        "outputId": "7258f6d9-a22e-4b0f-9a6a-a08f43758970"
      },
      "execution_count": null,
      "outputs": [
        {
          "output_type": "stream",
          "name": "stdout",
          "text": [
            "Epoch 1/2\n"
          ]
        },
        {
          "output_type": "stream",
          "name": "stderr",
          "text": [
            "WARNING:tensorflow:Gradients do not exist for variables ['tf_bert_model/bert/pooler/dense/kernel:0', 'tf_bert_model/bert/pooler/dense/bias:0'] when minimizing the loss. If you're using `model.compile()`, did you forget to provide a `loss` argument?\n",
            "WARNING:tensorflow:Gradients do not exist for variables ['tf_bert_model/bert/pooler/dense/kernel:0', 'tf_bert_model/bert/pooler/dense/bias:0'] when minimizing the loss. If you're using `model.compile()`, did you forget to provide a `loss` argument?\n",
            "WARNING:tensorflow:Gradients do not exist for variables ['tf_bert_model/bert/pooler/dense/kernel:0', 'tf_bert_model/bert/pooler/dense/bias:0'] when minimizing the loss. If you're using `model.compile()`, did you forget to provide a `loss` argument?\n",
            "WARNING:tensorflow:Gradients do not exist for variables ['tf_bert_model/bert/pooler/dense/kernel:0', 'tf_bert_model/bert/pooler/dense/bias:0'] when minimizing the loss. If you're using `model.compile()`, did you forget to provide a `loss` argument?\n"
          ]
        },
        {
          "output_type": "stream",
          "name": "stdout",
          "text": [
            "1520/1520 [==============================] - 280s 157ms/step - loss: 0.0734 - accuracy: 0.7647 - val_loss: 0.2965 - val_accuracy: 0.8043\n",
            "Epoch 2/2\n",
            "1520/1520 [==============================] - 222s 146ms/step - loss: 0.0515 - accuracy: 0.8223 - val_loss: 0.2752 - val_accuracy: 0.7768\n"
          ]
        }
      ]
    },
    {
      "cell_type": "code",
      "source": [
        "def show_results(features, true_labels, classes, threshold=0.5):\n",
        "    \"\"\"\n",
        "    Display classification report and confusion matrices.\n",
        "    \"\"\"\n",
        "    predictions = scibert_model.predict({'input_ids': features[0], 'attention_mask': features[1]})\n",
        "    y_pred = (predictions >= threshold).astype(int)\n",
        "\n",
        "    print(classification_report(true_labels, y_pred, target_names=classes, zero_division=0))\n",
        "\n",
        "show_results([np.array(val_encodings['input_ids']), np.array(val_encodings['attention_mask'])], val_labels, target_names)\n"
      ],
      "metadata": {
        "colab": {
          "base_uri": "https://localhost:8080/"
        },
        "id": "ocNup9oTGr8V",
        "outputId": "3a70b79b-7a88-4f06-80c3-b5570677fa24"
      },
      "execution_count": null,
      "outputs": [
        {
          "output_type": "stream",
          "name": "stdout",
          "text": [
            "47/47 [==============================] - 10s 155ms/step\n",
            "              precision    recall  f1-score   support\n",
            "\n",
            "        BIOC       0.94      0.82      0.87       841\n",
            "        COMP       0.78      0.75      0.77       220\n",
            "        MEDI       0.83      0.90      0.86       704\n",
            "\n",
            "   micro avg       0.87      0.84      0.86      1765\n",
            "   macro avg       0.85      0.82      0.83      1765\n",
            "weighted avg       0.87      0.84      0.86      1765\n",
            " samples avg       0.87      0.87      0.85      1765\n",
            "\n"
          ]
        }
      ]
    }
  ]
}